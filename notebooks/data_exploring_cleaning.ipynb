{
 "cells": [
  {
   "cell_type": "code",
   "execution_count": 8,
   "id": "bd53b4c7-1650-4a22-b17c-2d7306865390",
   "metadata": {},
   "outputs": [],
   "source": [
    "import pandas as pd\n",
    "import numpy as np"
   ]
  },
  {
   "cell_type": "code",
   "execution_count": 23,
   "id": "309dda21-e9e0-432c-9ad2-d96cf636d488",
   "metadata": {},
   "outputs": [],
   "source": [
    "# Load the “cleaned” outputs of your script\n",
    "so = pd.read_csv('../data/cleaned/so_survey_cleaned.csv')\n",
    "li = pd.read_csv('../data/cleaned/linkedin_cleaned.csv')\n"
   ]
  },
  {
   "cell_type": "code",
   "execution_count": 24,
   "id": "251c7a93-5d5d-4d5e-a74e-274360525e17",
   "metadata": {},
   "outputs": [
    {
     "name": "stdout",
     "output_type": "stream",
     "text": [
      "SO shape: (597, 32)\n",
      "ResponseId                                                                          int64\n",
      "MainBranch                                                                         object\n",
      "Age                                                                                object\n",
      "Employment_Status                                                                  object\n",
      "CodingActivities                                                                   object\n",
      "EdLevel                                                                            object\n",
      "DevType                                                                            object\n",
      "Country                                                                            object\n",
      "LearnCode_Other_online_resources_(e.g.,_videos,_blogs,_forum,_online_community)     int64\n",
      "LearnCode_On_the_job_training                                                       int64\n",
      "LearnCode_Books___Physical_media                                                    int64\n",
      "LearnCode_School_(i.e.,_University,_College,_etc)                                   int64\n",
      "LearnCode_Online_Courses_or_Certification                                           int64\n",
      "LearnCode_Other                                                                     int64\n",
      "LanguageHaveWorkedWith_Python                                                       int64\n",
      "LanguageHaveWorkedWith_SQL                                                          int64\n",
      "LanguageHaveWorkedWith_Bash_Shell_(all_shells)                                      int64\n",
      "LanguageHaveWorkedWith_JavaScript                                                   int64\n",
      "LanguageHaveWorkedWith_HTML_CSS                                                     int64\n",
      "LanguageHaveWorkedWith_Other                                                        int64\n",
      "DatabaseHaveWorkedWith_PostgreSQL                                                   int64\n",
      "DatabaseHaveWorkedWith_Microsoft_SQL_Server                                         int64\n",
      "DatabaseHaveWorkedWith_SQLite                                                       int64\n",
      "DatabaseHaveWorkedWith_MySQL                                                        int64\n",
      "DatabaseHaveWorkedWith_Snowflake                                                    int64\n",
      "DatabaseHaveWorkedWith_Other                                                        int64\n",
      "PlatformHaveWorkedWith_Amazon_Web_Services_(AWS)                                    int64\n",
      "PlatformHaveWorkedWith_Microsoft_Azure                                              int64\n",
      "PlatformHaveWorkedWith_Google_Cloud                                                 int64\n",
      "PlatformHaveWorkedWith_Databricks                                                   int64\n",
      "PlatformHaveWorkedWith_Digital_Ocean                                                int64\n",
      "PlatformHaveWorkedWith_Other                                                        int64\n",
      "dtype: object\n",
      "LinkedIn shape: (604, 7)\n",
      "JobTitle              object\n",
      "location              object\n",
      "State                 object\n",
      "normalized_salary    float64\n",
      "work_type             object\n",
      "pay_period            object\n",
      "DevType               object\n",
      "dtype: object\n"
     ]
    },
    {
     "data": {
      "text/html": [
       "<div>\n",
       "<style scoped>\n",
       "    .dataframe tbody tr th:only-of-type {\n",
       "        vertical-align: middle;\n",
       "    }\n",
       "\n",
       "    .dataframe tbody tr th {\n",
       "        vertical-align: top;\n",
       "    }\n",
       "\n",
       "    .dataframe thead th {\n",
       "        text-align: right;\n",
       "    }\n",
       "</style>\n",
       "<table border=\"1\" class=\"dataframe\">\n",
       "  <thead>\n",
       "    <tr style=\"text-align: right;\">\n",
       "      <th></th>\n",
       "      <th>JobTitle</th>\n",
       "      <th>location</th>\n",
       "      <th>State</th>\n",
       "      <th>normalized_salary</th>\n",
       "      <th>work_type</th>\n",
       "      <th>pay_period</th>\n",
       "      <th>DevType</th>\n",
       "    </tr>\n",
       "  </thead>\n",
       "  <tbody>\n",
       "    <tr>\n",
       "      <th>0</th>\n",
       "      <td>Technical Business Analyst</td>\n",
       "      <td>Albany, NY</td>\n",
       "      <td>NY</td>\n",
       "      <td>70000.0</td>\n",
       "      <td>CONTRACT</td>\n",
       "      <td>YEARLY</td>\n",
       "      <td>Data or business analyst</td>\n",
       "    </tr>\n",
       "    <tr>\n",
       "      <th>1</th>\n",
       "      <td>Senior Data Engineer/Analyst - Full Time</td>\n",
       "      <td>California, United States</td>\n",
       "      <td>CA</td>\n",
       "      <td>216320.0</td>\n",
       "      <td>FULL_TIME</td>\n",
       "      <td>HOURLY</td>\n",
       "      <td>Data engineer</td>\n",
       "    </tr>\n",
       "    <tr>\n",
       "      <th>2</th>\n",
       "      <td>Senior Machine Learning Research Engineer</td>\n",
       "      <td>San Francisco Bay Area</td>\n",
       "      <td>CA</td>\n",
       "      <td>250000.0</td>\n",
       "      <td>FULL_TIME</td>\n",
       "      <td>YEARLY</td>\n",
       "      <td>Data scientist or machine learning specialist</td>\n",
       "    </tr>\n",
       "    <tr>\n",
       "      <th>3</th>\n",
       "      <td>Azure Data Engineer (Full Time)</td>\n",
       "      <td>Arlington, VA</td>\n",
       "      <td>VA</td>\n",
       "      <td>120000.0</td>\n",
       "      <td>FULL_TIME</td>\n",
       "      <td>YEARLY</td>\n",
       "      <td>Data engineer</td>\n",
       "    </tr>\n",
       "    <tr>\n",
       "      <th>4</th>\n",
       "      <td>Senior Data Analyst - Ai Training (Remote, Con...</td>\n",
       "      <td>United States</td>\n",
       "      <td>Nationwide</td>\n",
       "      <td>114400.0</td>\n",
       "      <td>CONTRACT</td>\n",
       "      <td>HOURLY</td>\n",
       "      <td>Data scientist or machine learning specialist</td>\n",
       "    </tr>\n",
       "  </tbody>\n",
       "</table>\n",
       "</div>"
      ],
      "text/plain": [
       "                                            JobTitle  \\\n",
       "0                         Technical Business Analyst   \n",
       "1           Senior Data Engineer/Analyst - Full Time   \n",
       "2          Senior Machine Learning Research Engineer   \n",
       "3                    Azure Data Engineer (Full Time)   \n",
       "4  Senior Data Analyst - Ai Training (Remote, Con...   \n",
       "\n",
       "                    location       State  normalized_salary  work_type  \\\n",
       "0                 Albany, NY          NY            70000.0   CONTRACT   \n",
       "1  California, United States          CA           216320.0  FULL_TIME   \n",
       "2     San Francisco Bay Area          CA           250000.0  FULL_TIME   \n",
       "3              Arlington, VA          VA           120000.0  FULL_TIME   \n",
       "4              United States  Nationwide           114400.0   CONTRACT   \n",
       "\n",
       "  pay_period                                        DevType  \n",
       "0     YEARLY                       Data or business analyst  \n",
       "1     HOURLY                                  Data engineer  \n",
       "2     YEARLY  Data scientist or machine learning specialist  \n",
       "3     YEARLY                                  Data engineer  \n",
       "4     HOURLY  Data scientist or machine learning specialist  "
      ]
     },
     "execution_count": 24,
     "metadata": {},
     "output_type": "execute_result"
    }
   ],
   "source": [
    "# Shape & dtypes\n",
    "print(\"SO shape:\", so.shape)\n",
    "print(so.dtypes)\n",
    "\n",
    "print(\"LinkedIn shape:\", li.shape)\n",
    "print(li.dtypes)\n",
    "\n",
    "# Peek at a few rows\n",
    "so.head()\n",
    "li.head()\n"
   ]
  },
  {
   "cell_type": "code",
   "execution_count": 19,
   "id": "227514be-a142-425e-9905-2d08b33a4e84",
   "metadata": {},
   "outputs": [],
   "source": [
    "from ydata_profiling import ProfileReport\n",
    "profile = ProfileReport(so, title=\"SO Survey Profile\", explorative=True)"
   ]
  },
  {
   "cell_type": "code",
   "execution_count": 20,
   "id": "bdaee2f6-686f-4e67-acaf-03d9891fbdfb",
   "metadata": {},
   "outputs": [
    {
     "data": {
      "application/vnd.jupyter.widget-view+json": {
       "model_id": "40b59d219f224949b224078c9c16be6c",
       "version_major": 2,
       "version_minor": 0
      },
      "text/plain": [
       "Summarize dataset:   0%|          | 0/5 [00:00<?, ?it/s]"
      ]
     },
     "metadata": {},
     "output_type": "display_data"
    },
    {
     "name": "stderr",
     "output_type": "stream",
     "text": [
      "100%|██████████| 32/32 [00:00<00:00, 200.56it/s]\n"
     ]
    },
    {
     "data": {
      "application/vnd.jupyter.widget-view+json": {
       "model_id": "ab5189091af14242b9ab159a0eedd17b",
       "version_major": 2,
       "version_minor": 0
      },
      "text/plain": [
       "Generate report structure:   0%|          | 0/1 [00:00<?, ?it/s]"
      ]
     },
     "metadata": {},
     "output_type": "display_data"
    },
    {
     "data": {
      "application/vnd.jupyter.widget-view+json": {
       "model_id": "98a6994020f54536b8260a7d56b9e9e4",
       "version_major": 2,
       "version_minor": 0
      },
      "text/plain": [
       "Render HTML:   0%|          | 0/1 [00:00<?, ?it/s]"
      ]
     },
     "metadata": {},
     "output_type": "display_data"
    },
    {
     "data": {
      "application/vnd.jupyter.widget-view+json": {
       "model_id": "58a0d531f3854fd8a3b55cda69102f0e",
       "version_major": 2,
       "version_minor": 0
      },
      "text/plain": [
       "Export report to file:   0%|          | 0/1 [00:00<?, ?it/s]"
      ]
     },
     "metadata": {},
     "output_type": "display_data"
    }
   ],
   "source": [
    "profile.to_file(\"so_survey_profile.html\")"
   ]
  },
  {
   "cell_type": "code",
   "execution_count": 25,
   "id": "9d1d121e",
   "metadata": {},
   "outputs": [],
   "source": [
    "profile2 = ProfileReport(li, title=\"LinkedIn Postings Profile\", explorative=True)"
   ]
  },
  {
   "cell_type": "code",
   "execution_count": 26,
   "id": "da035273",
   "metadata": {},
   "outputs": [
    {
     "data": {
      "application/vnd.jupyter.widget-view+json": {
       "model_id": "ae88a5dd0c3a40ea9b52df389e66bcbe",
       "version_major": 2,
       "version_minor": 0
      },
      "text/plain": [
       "Summarize dataset:   0%|          | 0/5 [00:00<?, ?it/s]"
      ]
     },
     "metadata": {},
     "output_type": "display_data"
    },
    {
     "name": "stderr",
     "output_type": "stream",
     "text": [
      "100%|██████████| 7/7 [00:00<00:00, 578.32it/s]\n"
     ]
    },
    {
     "data": {
      "application/vnd.jupyter.widget-view+json": {
       "model_id": "65d2aff8ba64407ea48dbc2591eb71b0",
       "version_major": 2,
       "version_minor": 0
      },
      "text/plain": [
       "Generate report structure:   0%|          | 0/1 [00:00<?, ?it/s]"
      ]
     },
     "metadata": {},
     "output_type": "display_data"
    },
    {
     "data": {
      "application/vnd.jupyter.widget-view+json": {
       "model_id": "ccf58ed0a9ee478c81764ea995b20ea5",
       "version_major": 2,
       "version_minor": 0
      },
      "text/plain": [
       "Render HTML:   0%|          | 0/1 [00:00<?, ?it/s]"
      ]
     },
     "metadata": {},
     "output_type": "display_data"
    },
    {
     "data": {
      "application/vnd.jupyter.widget-view+json": {
       "model_id": "44872c42e5944792b68e0cead5dceaa6",
       "version_major": 2,
       "version_minor": 0
      },
      "text/plain": [
       "Export report to file:   0%|          | 0/1 [00:00<?, ?it/s]"
      ]
     },
     "metadata": {},
     "output_type": "display_data"
    }
   ],
   "source": [
    "profile2.to_file(\"li_posting_profile.html\")"
   ]
  }
 ],
 "metadata": {
  "kernelspec": {
   "display_name": "steame-env",
   "language": "python",
   "name": "python3"
  },
  "language_info": {
   "codemirror_mode": {
    "name": "ipython",
    "version": 3
   },
   "file_extension": ".py",
   "mimetype": "text/x-python",
   "name": "python",
   "nbconvert_exporter": "python",
   "pygments_lexer": "ipython3",
   "version": "3.8.2"
  }
 },
 "nbformat": 4,
 "nbformat_minor": 5
}
